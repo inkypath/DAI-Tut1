{
 "cells": [
  {
   "cell_type": "code",
   "execution_count": 2,
   "metadata": {},
   "outputs": [],
   "source": [
    "# Import necessary libraries\n",
    "import pandas as pd\n",
    "from sklearn.model_selection import train_test_split\n",
    "from sklearn.linear_model import LogisticRegression\n",
    "from sklearn.metrics import accuracy_score, f1_score, roc_auc_score\n",
    "from imblearn.over_sampling import RandomOverSampler, SMOTE\n",
    "from imblearn.under_sampling import RandomUnderSampler, TomekLinks"
   ]
  },
  {
   "cell_type": "code",
   "execution_count": 3,
   "metadata": {},
   "outputs": [],
   "source": [
    "# Load the dataset and split it into features and target\n",
    "data = pd.read_csv(r\"D:\\DAI 101\\ulalala\\suv_data.csv\")\n",
    "X = data[['Age', 'EstimatedSalary']]\n",
    "y = data['Purchased']\n",
    "\n",
    "# Split the data into training and test sets\n",
    "X_train, X_test, y_train, y_test = train_test_split(X, y, test_size=0.3, random_state=42)"
   ]
  },
  {
   "cell_type": "code",
   "execution_count": 4,
   "metadata": {},
   "outputs": [],
   "source": [
    "# Function to train the logistic regression model and evaluate it\n",
    "def evaluate_model(X_train, y_train, X_test, y_test):\n",
    "    model = LogisticRegression(class_weight='balanced')\n",
    "    model.fit(X_train, y_train)\n",
    "    y_pred = model.predict(X_test)\n",
    "    y_pred_proba = model.predict_proba(X_test)[:, 1]\n",
    "    \n",
    "    # Calculate evaluation metrics\n",
    "    acc = accuracy_score(y_test, y_pred)\n",
    "    f1 = f1_score(y_test, y_pred)\n",
    "    auc = roc_auc_score(y_test, y_pred_proba)\n",
    "    \n",
    "    return acc, f1, auc"
   ]
  },
  {
   "cell_type": "code",
   "execution_count": 5,
   "metadata": {},
   "outputs": [
    {
     "name": "stdout",
     "output_type": "stream",
     "text": [
      "Baseline (No Resampling):\n",
      "Accuracy: 0.875, F1 Score: 0.8421052631578947, AUC: 0.9594870300204021\n"
     ]
    }
   ],
   "source": [
    "# Baseline model without any resampling\n",
    "print(\"Baseline (No Resampling):\")\n",
    "acc, f1, auc = evaluate_model(X_train, y_train, X_test, y_test)\n",
    "print(f\"Accuracy: {acc}, F1 Score: {f1}, AUC: {auc}\")"
   ]
  },
  {
   "cell_type": "code",
   "execution_count": 6,
   "metadata": {},
   "outputs": [
    {
     "name": "stdout",
     "output_type": "stream",
     "text": [
      "\n",
      "Random Oversampling:\n",
      "Accuracy: 0.8666666666666667, F1 Score: 0.8297872340425532, AUC: 0.9594870300204021\n"
     ]
    }
   ],
   "source": [
    "# Apply Random Oversampling\n",
    "ros = RandomOverSampler(random_state=42)\n",
    "X_resampled, y_resampled = ros.fit_resample(X_train, y_train)\n",
    "\n",
    "print(\"\\nRandom Oversampling:\")\n",
    "acc, f1, auc = evaluate_model(X_resampled, y_resampled, X_test, y_test)\n",
    "print(f\"Accuracy: {acc}, F1 Score: {f1}, AUC: {auc}\")"
   ]
  },
  {
   "cell_type": "code",
   "execution_count": 7,
   "metadata": {},
   "outputs": [
    {
     "name": "stdout",
     "output_type": "stream",
     "text": [
      "\n",
      "Random Undersampling:\n",
      "Accuracy: 0.8666666666666667, F1 Score: 0.8297872340425532, AUC: 0.9591955698047216\n"
     ]
    }
   ],
   "source": [
    "# Apply Random Undersampling\n",
    "rus = RandomUnderSampler(random_state=42)\n",
    "X_resampled, y_resampled = rus.fit_resample(X_train, y_train)\n",
    "\n",
    "print(\"\\nRandom Undersampling:\")\n",
    "acc, f1, auc = evaluate_model(X_resampled, y_resampled, X_test, y_test)\n",
    "print(f\"Accuracy: {acc}, F1 Score: {f1}, AUC: {auc}\")"
   ]
  },
  {
   "cell_type": "code",
   "execution_count": 8,
   "metadata": {},
   "outputs": [
    {
     "name": "stdout",
     "output_type": "stream",
     "text": [
      "\n",
      "SMOTE:\n",
      "Accuracy: 0.8666666666666667, F1 Score: 0.8297872340425532, AUC: 0.9591955698047216\n"
     ]
    }
   ],
   "source": [
    "# Apply SMOTE (Synthetic Minority Over-sampling Technique)\n",
    "smote = SMOTE(random_state=42)\n",
    "X_resampled, y_resampled = smote.fit_resample(X_train, y_train)\n",
    "\n",
    "print(\"\\nSMOTE:\")\n",
    "acc, f1, auc = evaluate_model(X_resampled, y_resampled, X_test, y_test)\n",
    "print(f\"Accuracy: {acc}, F1 Score: {f1}, AUC: {auc}\")"
   ]
  },
  {
   "cell_type": "code",
   "execution_count": 9,
   "metadata": {},
   "outputs": [
    {
     "name": "stdout",
     "output_type": "stream",
     "text": [
      "\n",
      "Tomek Links:\n",
      "Accuracy: 0.8666666666666667, F1 Score: 0.8333333333333334, AUC: 0.9580297289419994\n"
     ]
    }
   ],
   "source": [
    "# Apply Tomek Links undersampling\n",
    "tomek = TomekLinks()\n",
    "X_resampled, y_resampled = tomek.fit_resample(X_train, y_train)\n",
    "\n",
    "print(\"\\nTomek Links:\")\n",
    "acc, f1, auc = evaluate_model(X_resampled, y_resampled, X_test, y_test)\n",
    "print(f\"Accuracy: {acc}, F1 Score: {f1}, AUC: {auc}\")"
   ]
  },
  {
   "cell_type": "code",
   "execution_count": 10,
   "metadata": {},
   "outputs": [
    {
     "name": "stdout",
     "output_type": "stream",
     "text": [
      "\n",
      "Class Weight Balanced:\n",
      "Accuracy: 0.875, F1 Score: 0.8421052631578947, AUC: 0.9594870300204021\n"
     ]
    }
   ],
   "source": [
    "# Evaluate using class weights (built-in class balancing)\n",
    "print(\"\\nClass Weight Balanced:\")\n",
    "acc, f1, auc = evaluate_model(X_train, y_train, X_test, y_test)\n",
    "print(f\"Accuracy: {acc}, F1 Score: {f1}, AUC: {auc}\")"
   ]
  }
 ],
 "metadata": {
  "kernelspec": {
   "display_name": "my_env",
   "language": "python",
   "name": "python3"
  },
  "language_info": {
   "codemirror_mode": {
    "name": "ipython",
    "version": 3
   },
   "file_extension": ".py",
   "mimetype": "text/x-python",
   "name": "python",
   "nbconvert_exporter": "python",
   "pygments_lexer": "ipython3",
   "version": "3.10.0"
  }
 },
 "nbformat": 4,
 "nbformat_minor": 2
}
